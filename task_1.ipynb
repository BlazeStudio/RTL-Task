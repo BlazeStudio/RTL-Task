{
 "cells": [
  {
   "cell_type": "markdown",
   "source": [
    "## Задача\n",
    "\n",
    "Реализовать алгоритм построения потока пенсий до достижения участниками договоров возраста 100 лет. В качестве входных данных используются следующие таблицы:\n",
    "*\tТаблица договоров участников;\n",
    "*\tТаблица сумм пенсий;\n",
    "*\tТаблица параметров расчета.\n",
    "\n",
    "Формат выходной таблицы представлен на вкладке «Результат».\n",
    "\n",
    "Дополнительная информация:\n",
    "1. Индексация пенсии происходит раз в год в Январе\n",
    "2. Датой первого платежа считается месяц, в котором Участник выходит на пенсию. День выплаты равен последнему дню месяца. Даты последующих платежей происходят ровно через месяц, после предыдущей уплаты пенсии.\n",
    "3. Дата последнего платежа НЕ превосходит максимальный возраст человека.\n"
   ],
   "metadata": {
    "collapsed": false
   }
  },
  {
   "cell_type": "code",
   "execution_count": 1,
   "outputs": [],
   "source": [
    "import pandas as pd\n",
    "from datetime import timedelta\n",
    "from dateutil.relativedelta import relativedelta"
   ],
   "metadata": {
    "collapsed": false,
    "ExecuteTime": {
     "start_time": "2024-06-13T02:07:33.571441Z",
     "end_time": "2024-06-13T02:07:33.858910Z"
    }
   }
  },
  {
   "cell_type": "code",
   "execution_count": 2,
   "outputs": [],
   "source": [
    "excel_file = \"files/Данные.xlsx\"\n",
    "participants_data = pd.read_excel(excel_file, sheet_name='Договоры участников')\n",
    "pension_amounts = pd.read_excel(excel_file, sheet_name='Суммы пенсий')\n",
    "calculation_params = pd.read_excel(excel_file, sheet_name='Параметры расчета', header=None)\n",
    "calculation_params = calculation_params.set_index(0).transpose()\n",
    "\n",
    "df_params = pd.DataFrame(calculation_params)\n",
    "\n",
    "df = pd.merge(pd.DataFrame(participants_data), pd.DataFrame(pension_amounts), on='Номер договора')"
   ],
   "metadata": {
    "collapsed": false,
    "ExecuteTime": {
     "start_time": "2024-06-13T02:07:33.857908Z",
     "end_time": "2024-06-13T02:07:34.119221Z"
    }
   }
  },
  {
   "cell_type": "code",
   "execution_count": 3,
   "outputs": [
    {
     "data": {
      "text/plain": "     Номер договора Дата платежа  Размер пенсии\n0             10001   31.07.2021       30000.00\n1             10001   31.08.2021       30000.00\n2             10001   30.09.2021       30000.00\n3             10001   31.10.2021       30000.00\n4             10001   30.11.2021       30000.00\n..              ...          ...            ...\n919           10002   30.09.2086     1277383.49\n920           10002   31.10.2086     1277383.49\n921           10002   30.11.2086     1277383.49\n922           10002   31.12.2086     1277383.49\n923           10002   31.01.2087     1277383.49\n\n[924 rows x 3 columns]",
      "text/html": "<div>\n<style scoped>\n    .dataframe tbody tr th:only-of-type {\n        vertical-align: middle;\n    }\n\n    .dataframe tbody tr th {\n        vertical-align: top;\n    }\n\n    .dataframe thead th {\n        text-align: right;\n    }\n</style>\n<table border=\"1\" class=\"dataframe\">\n  <thead>\n    <tr style=\"text-align: right;\">\n      <th></th>\n      <th>Номер договора</th>\n      <th>Дата платежа</th>\n      <th>Размер пенсии</th>\n    </tr>\n  </thead>\n  <tbody>\n    <tr>\n      <th>0</th>\n      <td>10001</td>\n      <td>31.07.2021</td>\n      <td>30000.00</td>\n    </tr>\n    <tr>\n      <th>1</th>\n      <td>10001</td>\n      <td>31.08.2021</td>\n      <td>30000.00</td>\n    </tr>\n    <tr>\n      <th>2</th>\n      <td>10001</td>\n      <td>30.09.2021</td>\n      <td>30000.00</td>\n    </tr>\n    <tr>\n      <th>3</th>\n      <td>10001</td>\n      <td>31.10.2021</td>\n      <td>30000.00</td>\n    </tr>\n    <tr>\n      <th>4</th>\n      <td>10001</td>\n      <td>30.11.2021</td>\n      <td>30000.00</td>\n    </tr>\n    <tr>\n      <th>...</th>\n      <td>...</td>\n      <td>...</td>\n      <td>...</td>\n    </tr>\n    <tr>\n      <th>919</th>\n      <td>10002</td>\n      <td>30.09.2086</td>\n      <td>1277383.49</td>\n    </tr>\n    <tr>\n      <th>920</th>\n      <td>10002</td>\n      <td>31.10.2086</td>\n      <td>1277383.49</td>\n    </tr>\n    <tr>\n      <th>921</th>\n      <td>10002</td>\n      <td>30.11.2086</td>\n      <td>1277383.49</td>\n    </tr>\n    <tr>\n      <th>922</th>\n      <td>10002</td>\n      <td>31.12.2086</td>\n      <td>1277383.49</td>\n    </tr>\n    <tr>\n      <th>923</th>\n      <td>10002</td>\n      <td>31.01.2087</td>\n      <td>1277383.49</td>\n    </tr>\n  </tbody>\n</table>\n<p>924 rows × 3 columns</p>\n</div>"
     },
     "execution_count": 3,
     "metadata": {},
     "output_type": "execute_result"
    }
   ],
   "source": [
    "# Слияние\n",
    "def get_last_day_of_month(date):\n",
    "    next_month = date + relativedelta(months=1)\n",
    "    last_day = next_month - timedelta(days=next_month.day)\n",
    "    return last_day\n",
    "\n",
    "results = []\n",
    "\n",
    "def add(contract_number, payment_date, current_pension_amount):\n",
    "    return  results.append({\n",
    "            'Номер договора': contract_number,\n",
    "            'Дата платежа': payment_date.strftime('%d.%m.%Y'),\n",
    "            'Размер пенсии': round(current_pension_amount, 2)\n",
    "        })\n",
    "\n",
    "# График пенсионных выплат\n",
    "#Итерация по строкам\n",
    "for _, row in df.iterrows():\n",
    "    contract_number = row['Номер договора']\n",
    "    date_of_birth = row['Дата рождения участника']\n",
    "\n",
    "    # Начальная дата пенсии\n",
    "    pension_start_date = get_last_day_of_month(date_of_birth + relativedelta(years=row['Пенсионный возраст']))\n",
    "    payment_date = pension_start_date\n",
    "    current_pension_amount = row['Установленный размер пенсии']\n",
    "    while (payment_date - date_of_birth).days // 365 < df_params['Максимальный возраст, лет'][1]:\n",
    "        # Индексация в январе\n",
    "        if payment_date.month == 1 and payment_date != pension_start_date:\n",
    "            current_pension_amount *= (1 + df_params['Ставка индексации пенсии'][1])\n",
    "        add(contract_number, payment_date, current_pension_amount)\n",
    "        next_payment_date = get_last_day_of_month(payment_date + relativedelta(months=1))\n",
    "        # Проверка на превышение максимального возраста\n",
    "        if (next_payment_date - date_of_birth).days // 365 >= df_params['Максимальный возраст, лет'][1]:\n",
    "            add(contract_number, next_payment_date, current_pension_amount)\n",
    "            break\n",
    "        payment_date = next_payment_date\n",
    "\n",
    "df_results = pd.DataFrame(results)\n",
    "df_results"
   ],
   "metadata": {
    "collapsed": false,
    "ExecuteTime": {
     "start_time": "2024-06-13T02:07:34.121235Z",
     "end_time": "2024-06-13T02:07:34.182425Z"
    }
   }
  },
  {
   "cell_type": "markdown",
   "source": [
    "**Разделение для наглядности**"
   ],
   "metadata": {
    "collapsed": false
   }
  },
  {
   "cell_type": "code",
   "execution_count": 4,
   "outputs": [
    {
     "data": {
      "text/plain": "     Номер договора Дата платежа  Размер пенсии\n0             10001   31.07.2021       30000.00\n1             10001   31.08.2021       30000.00\n2             10001   30.09.2021       30000.00\n3             10001   31.10.2021       30000.00\n4             10001   30.11.2021       30000.00\n..              ...          ...            ...\n499           10001   28.02.2063     1642910.98\n500           10001   31.03.2063     1642910.98\n501           10001   30.04.2063     1642910.98\n502           10001   31.05.2063     1642910.98\n503           10001   30.06.2063     1642910.98\n\n[504 rows x 3 columns]",
      "text/html": "<div>\n<style scoped>\n    .dataframe tbody tr th:only-of-type {\n        vertical-align: middle;\n    }\n\n    .dataframe tbody tr th {\n        vertical-align: top;\n    }\n\n    .dataframe thead th {\n        text-align: right;\n    }\n</style>\n<table border=\"1\" class=\"dataframe\">\n  <thead>\n    <tr style=\"text-align: right;\">\n      <th></th>\n      <th>Номер договора</th>\n      <th>Дата платежа</th>\n      <th>Размер пенсии</th>\n    </tr>\n  </thead>\n  <tbody>\n    <tr>\n      <th>0</th>\n      <td>10001</td>\n      <td>31.07.2021</td>\n      <td>30000.00</td>\n    </tr>\n    <tr>\n      <th>1</th>\n      <td>10001</td>\n      <td>31.08.2021</td>\n      <td>30000.00</td>\n    </tr>\n    <tr>\n      <th>2</th>\n      <td>10001</td>\n      <td>30.09.2021</td>\n      <td>30000.00</td>\n    </tr>\n    <tr>\n      <th>3</th>\n      <td>10001</td>\n      <td>31.10.2021</td>\n      <td>30000.00</td>\n    </tr>\n    <tr>\n      <th>4</th>\n      <td>10001</td>\n      <td>30.11.2021</td>\n      <td>30000.00</td>\n    </tr>\n    <tr>\n      <th>...</th>\n      <td>...</td>\n      <td>...</td>\n      <td>...</td>\n    </tr>\n    <tr>\n      <th>499</th>\n      <td>10001</td>\n      <td>28.02.2063</td>\n      <td>1642910.98</td>\n    </tr>\n    <tr>\n      <th>500</th>\n      <td>10001</td>\n      <td>31.03.2063</td>\n      <td>1642910.98</td>\n    </tr>\n    <tr>\n      <th>501</th>\n      <td>10001</td>\n      <td>30.04.2063</td>\n      <td>1642910.98</td>\n    </tr>\n    <tr>\n      <th>502</th>\n      <td>10001</td>\n      <td>31.05.2063</td>\n      <td>1642910.98</td>\n    </tr>\n    <tr>\n      <th>503</th>\n      <td>10001</td>\n      <td>30.06.2063</td>\n      <td>1642910.98</td>\n    </tr>\n  </tbody>\n</table>\n<p>504 rows × 3 columns</p>\n</div>"
     },
     "execution_count": 4,
     "metadata": {},
     "output_type": "execute_result"
    }
   ],
   "source": [
    "df_results[df_results['Номер договора'] == 10001]"
   ],
   "metadata": {
    "collapsed": false,
    "ExecuteTime": {
     "start_time": "2024-06-13T02:07:34.184432Z",
     "end_time": "2024-06-13T02:07:34.208245Z"
    }
   }
  },
  {
   "cell_type": "code",
   "execution_count": 5,
   "outputs": [
    {
     "data": {
      "text/plain": "     Номер договора Дата платежа  Размер пенсии\n504           10002   29.02.2052       50000.00\n505           10002   31.03.2052       50000.00\n506           10002   30.04.2052       50000.00\n507           10002   31.05.2052       50000.00\n508           10002   30.06.2052       50000.00\n..              ...          ...            ...\n919           10002   30.09.2086     1277383.49\n920           10002   31.10.2086     1277383.49\n921           10002   30.11.2086     1277383.49\n922           10002   31.12.2086     1277383.49\n923           10002   31.01.2087     1277383.49\n\n[420 rows x 3 columns]",
      "text/html": "<div>\n<style scoped>\n    .dataframe tbody tr th:only-of-type {\n        vertical-align: middle;\n    }\n\n    .dataframe tbody tr th {\n        vertical-align: top;\n    }\n\n    .dataframe thead th {\n        text-align: right;\n    }\n</style>\n<table border=\"1\" class=\"dataframe\">\n  <thead>\n    <tr style=\"text-align: right;\">\n      <th></th>\n      <th>Номер договора</th>\n      <th>Дата платежа</th>\n      <th>Размер пенсии</th>\n    </tr>\n  </thead>\n  <tbody>\n    <tr>\n      <th>504</th>\n      <td>10002</td>\n      <td>29.02.2052</td>\n      <td>50000.00</td>\n    </tr>\n    <tr>\n      <th>505</th>\n      <td>10002</td>\n      <td>31.03.2052</td>\n      <td>50000.00</td>\n    </tr>\n    <tr>\n      <th>506</th>\n      <td>10002</td>\n      <td>30.04.2052</td>\n      <td>50000.00</td>\n    </tr>\n    <tr>\n      <th>507</th>\n      <td>10002</td>\n      <td>31.05.2052</td>\n      <td>50000.00</td>\n    </tr>\n    <tr>\n      <th>508</th>\n      <td>10002</td>\n      <td>30.06.2052</td>\n      <td>50000.00</td>\n    </tr>\n    <tr>\n      <th>...</th>\n      <td>...</td>\n      <td>...</td>\n      <td>...</td>\n    </tr>\n    <tr>\n      <th>919</th>\n      <td>10002</td>\n      <td>30.09.2086</td>\n      <td>1277383.49</td>\n    </tr>\n    <tr>\n      <th>920</th>\n      <td>10002</td>\n      <td>31.10.2086</td>\n      <td>1277383.49</td>\n    </tr>\n    <tr>\n      <th>921</th>\n      <td>10002</td>\n      <td>30.11.2086</td>\n      <td>1277383.49</td>\n    </tr>\n    <tr>\n      <th>922</th>\n      <td>10002</td>\n      <td>31.12.2086</td>\n      <td>1277383.49</td>\n    </tr>\n    <tr>\n      <th>923</th>\n      <td>10002</td>\n      <td>31.01.2087</td>\n      <td>1277383.49</td>\n    </tr>\n  </tbody>\n</table>\n<p>420 rows × 3 columns</p>\n</div>"
     },
     "execution_count": 5,
     "metadata": {},
     "output_type": "execute_result"
    }
   ],
   "source": [
    "df_results[df_results['Номер договора'] == 10002]"
   ],
   "metadata": {
    "collapsed": false,
    "ExecuteTime": {
     "start_time": "2024-06-13T02:07:34.199488Z",
     "end_time": "2024-06-13T02:07:34.263732Z"
    }
   }
  },
  {
   "cell_type": "markdown",
   "source": [
    "**Запись в исходный excel файл**"
   ],
   "metadata": {
    "collapsed": false
   }
  },
  {
   "cell_type": "code",
   "execution_count": 6,
   "outputs": [],
   "source": [
    "with pd.ExcelWriter(excel_file, engine='openpyxl', mode='a', if_sheet_exists='replace') as writer:\n",
    "    df_results.to_excel(writer, sheet_name='Результат', index=False)"
   ],
   "metadata": {
    "collapsed": false,
    "ExecuteTime": {
     "start_time": "2024-06-13T02:07:34.215637Z",
     "end_time": "2024-06-13T02:07:34.352866Z"
    }
   }
  }
 ],
 "metadata": {
  "kernelspec": {
   "display_name": "Python 3",
   "language": "python",
   "name": "python3"
  },
  "language_info": {
   "codemirror_mode": {
    "name": "ipython",
    "version": 2
   },
   "file_extension": ".py",
   "mimetype": "text/x-python",
   "name": "python",
   "nbconvert_exporter": "python",
   "pygments_lexer": "ipython2",
   "version": "2.7.6"
  }
 },
 "nbformat": 4,
 "nbformat_minor": 0
}
