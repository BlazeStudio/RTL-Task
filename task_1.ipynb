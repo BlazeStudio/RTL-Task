{
 "cells": [
  {
   "cell_type": "markdown",
   "source": [
    "## Задача\n",
    "\n",
    "Реализовать алгоритм построения потока пенсий до достижения участниками договоров возраста 100 лет. В качестве входных данных используются следующие таблицы:\n",
    "*\tТаблица договоров участников;\n",
    "*\tТаблица сумм пенсий;\n",
    "*\tТаблица параметров расчета.\n",
    "\n",
    "Формат выходной таблицы представлен на вкладке «Результат».\n"
   ],
   "metadata": {
    "collapsed": false
   }
  },
  {
   "cell_type": "code",
   "execution_count": 134,
   "outputs": [],
   "source": [
    "import pandas as pd\n",
    "from datetime import timedelta\n",
    "from dateutil.relativedelta import relativedelta"
   ],
   "metadata": {
    "collapsed": false,
    "ExecuteTime": {
     "start_time": "2024-06-12T23:50:19.970520Z",
     "end_time": "2024-06-12T23:50:19.990653Z"
    }
   }
  },
  {
   "cell_type": "code",
   "execution_count": 135,
   "outputs": [],
   "source": [
    "# participants_data = pd.read_csv(\"files/Договоры участников.csv\", delimiter=';')\n",
    "# pension_amounts = pd.read_csv(\"files/Суммы пенсий.csv\", delimiter=';')\n",
    "# calculation_params = pd.read_csv(\"files/Параметры расчёта.csv\", delimiter=';')\n",
    "\n",
    "excel_file = \"files/Данные.xlsx\"\n",
    "participants_data = pd.read_excel(excel_file, sheet_name='Договоры участников')\n",
    "pension_amounts = pd.read_excel(excel_file, sheet_name='Суммы пенсий')\n",
    "calculation_params = pd.read_excel(excel_file, sheet_name='Параметры расчета', header=None)\n",
    "calculation_params = calculation_params.set_index(0).transpose()\n",
    "\n",
    "df_participants = pd.DataFrame(participants_data)\n",
    "df_pensions = pd.DataFrame(pension_amounts)\n",
    "df_params = pd.DataFrame(calculation_params)"
   ],
   "metadata": {
    "collapsed": false,
    "ExecuteTime": {
     "start_time": "2024-06-12T23:50:19.987655Z",
     "end_time": "2024-06-12T23:50:20.028697Z"
    }
   }
  },
  {
   "cell_type": "code",
   "execution_count": 136,
   "outputs": [
    {
     "data": {
      "text/plain": "     Номер договора Дата платежа  Размер пенсии\n0             10001   31.07.2021       30000.00\n1             10001   31.08.2021       30000.00\n2             10001   30.09.2021       30000.00\n3             10001   31.10.2021       30000.00\n4             10001   30.11.2021       30000.00\n..              ...          ...            ...\n919           10002   30.09.2086     1277383.49\n920           10002   31.10.2086     1277383.49\n921           10002   30.11.2086     1277383.49\n922           10002   31.12.2086     1277383.49\n923           10002   31.01.2087     1277383.49\n\n[924 rows x 3 columns]",
      "text/html": "<div>\n<style scoped>\n    .dataframe tbody tr th:only-of-type {\n        vertical-align: middle;\n    }\n\n    .dataframe tbody tr th {\n        vertical-align: top;\n    }\n\n    .dataframe thead th {\n        text-align: right;\n    }\n</style>\n<table border=\"1\" class=\"dataframe\">\n  <thead>\n    <tr style=\"text-align: right;\">\n      <th></th>\n      <th>Номер договора</th>\n      <th>Дата платежа</th>\n      <th>Размер пенсии</th>\n    </tr>\n  </thead>\n  <tbody>\n    <tr>\n      <th>0</th>\n      <td>10001</td>\n      <td>31.07.2021</td>\n      <td>30000.00</td>\n    </tr>\n    <tr>\n      <th>1</th>\n      <td>10001</td>\n      <td>31.08.2021</td>\n      <td>30000.00</td>\n    </tr>\n    <tr>\n      <th>2</th>\n      <td>10001</td>\n      <td>30.09.2021</td>\n      <td>30000.00</td>\n    </tr>\n    <tr>\n      <th>3</th>\n      <td>10001</td>\n      <td>31.10.2021</td>\n      <td>30000.00</td>\n    </tr>\n    <tr>\n      <th>4</th>\n      <td>10001</td>\n      <td>30.11.2021</td>\n      <td>30000.00</td>\n    </tr>\n    <tr>\n      <th>...</th>\n      <td>...</td>\n      <td>...</td>\n      <td>...</td>\n    </tr>\n    <tr>\n      <th>919</th>\n      <td>10002</td>\n      <td>30.09.2086</td>\n      <td>1277383.49</td>\n    </tr>\n    <tr>\n      <th>920</th>\n      <td>10002</td>\n      <td>31.10.2086</td>\n      <td>1277383.49</td>\n    </tr>\n    <tr>\n      <th>921</th>\n      <td>10002</td>\n      <td>30.11.2086</td>\n      <td>1277383.49</td>\n    </tr>\n    <tr>\n      <th>922</th>\n      <td>10002</td>\n      <td>31.12.2086</td>\n      <td>1277383.49</td>\n    </tr>\n    <tr>\n      <th>923</th>\n      <td>10002</td>\n      <td>31.01.2087</td>\n      <td>1277383.49</td>\n    </tr>\n  </tbody>\n</table>\n<p>924 rows × 3 columns</p>\n</div>"
     },
     "execution_count": 136,
     "metadata": {},
     "output_type": "execute_result"
    }
   ],
   "source": [
    "# Вытаскиваем данные в отдельные переменные\n",
    "report_date = pd.to_datetime(df_params['Отчетная дата'][1], format='%d.%m.%Y')\n",
    "indexation_rate = df_params['Ставка индексации пенсии'][1]\n",
    "max_age = int(df_params['Максимальный возраст, лет'][1])\n",
    "\n",
    "# Стринг дат в datetime\n",
    "df_participants['Дата рождения участника'] = pd.to_datetime(df_participants['Дата рождения участника'], format='%d.%m.%Y')\n",
    "\n",
    "# Расчёт возраста участников на дату составления отчета\n",
    "df_participants['Возраст на отчетную дату'] = (report_date - df_participants['Дата рождения участника']).dt.days // 365\n",
    "\n",
    "# Слияние\n",
    "df = pd.merge(df_participants, df_pensions, on='Номер договора')\n",
    "\n",
    "def get_last_day_of_month(date):\n",
    "    next_month = date + relativedelta(months=1)\n",
    "    last_day = next_month - timedelta(days=next_month.day)\n",
    "    return last_day\n",
    "\n",
    "results = []\n",
    "\n",
    "# График пенсионных выплат\n",
    "for _, row in df.iterrows():\n",
    "    contract_number = row['Номер договора']\n",
    "    dob = row['Дата рождения участника']\n",
    "    pension_age = row['Пенсионный возраст']\n",
    "    initial_pension_amount = row['Установленный размер пенсии']\n",
    "\n",
    "    # Начальная дата пенсии\n",
    "    pension_start_date = dob + relativedelta(years=pension_age)\n",
    "    pension_start_date = get_last_day_of_month(pension_start_date)\n",
    "\n",
    "    payment_date = pension_start_date\n",
    "    current_pension_amount = initial_pension_amount\n",
    "    while (payment_date - dob).days // 365 < max_age:\n",
    "        # Индексация в январе\n",
    "        if payment_date.month == 1 and payment_date != pension_start_date:\n",
    "            current_pension_amount *= (1 + indexation_rate)\n",
    "\n",
    "        results.append({\n",
    "            'Номер договора': contract_number,\n",
    "            'Дата платежа': payment_date.strftime('%d.%m.%Y'),\n",
    "            'Размер пенсии': round(current_pension_amount, 2)\n",
    "        })\n",
    "\n",
    "        next_payment_date = get_last_day_of_month(payment_date + relativedelta(months=1))\n",
    "        # Проверка на превышение максимального возраста\n",
    "        if (next_payment_date - dob).days // 365 >= max_age:\n",
    "            results.append({\n",
    "                'Номер договора': contract_number,\n",
    "                'Дата платежа': next_payment_date.strftime('%d.%m.%Y'),\n",
    "                'Размер пенсии': round(current_pension_amount, 2)\n",
    "            })\n",
    "            break\n",
    "        payment_date = next_payment_date\n",
    "\n",
    "df_results = pd.DataFrame(results)\n",
    "df_results"
   ],
   "metadata": {
    "collapsed": false,
    "ExecuteTime": {
     "start_time": "2024-06-12T23:50:20.034718Z",
     "end_time": "2024-06-12T23:50:20.076763Z"
    }
   }
  },
  {
   "cell_type": "markdown",
   "source": [
    "**Разделение для наглядности**"
   ],
   "metadata": {
    "collapsed": false
   }
  },
  {
   "cell_type": "code",
   "execution_count": 137,
   "outputs": [
    {
     "data": {
      "text/plain": "     Номер договора Дата платежа  Размер пенсии\n0             10001   31.07.2021       30000.00\n1             10001   31.08.2021       30000.00\n2             10001   30.09.2021       30000.00\n3             10001   31.10.2021       30000.00\n4             10001   30.11.2021       30000.00\n..              ...          ...            ...\n499           10001   28.02.2063     1642910.98\n500           10001   31.03.2063     1642910.98\n501           10001   30.04.2063     1642910.98\n502           10001   31.05.2063     1642910.98\n503           10001   30.06.2063     1642910.98\n\n[504 rows x 3 columns]",
      "text/html": "<div>\n<style scoped>\n    .dataframe tbody tr th:only-of-type {\n        vertical-align: middle;\n    }\n\n    .dataframe tbody tr th {\n        vertical-align: top;\n    }\n\n    .dataframe thead th {\n        text-align: right;\n    }\n</style>\n<table border=\"1\" class=\"dataframe\">\n  <thead>\n    <tr style=\"text-align: right;\">\n      <th></th>\n      <th>Номер договора</th>\n      <th>Дата платежа</th>\n      <th>Размер пенсии</th>\n    </tr>\n  </thead>\n  <tbody>\n    <tr>\n      <th>0</th>\n      <td>10001</td>\n      <td>31.07.2021</td>\n      <td>30000.00</td>\n    </tr>\n    <tr>\n      <th>1</th>\n      <td>10001</td>\n      <td>31.08.2021</td>\n      <td>30000.00</td>\n    </tr>\n    <tr>\n      <th>2</th>\n      <td>10001</td>\n      <td>30.09.2021</td>\n      <td>30000.00</td>\n    </tr>\n    <tr>\n      <th>3</th>\n      <td>10001</td>\n      <td>31.10.2021</td>\n      <td>30000.00</td>\n    </tr>\n    <tr>\n      <th>4</th>\n      <td>10001</td>\n      <td>30.11.2021</td>\n      <td>30000.00</td>\n    </tr>\n    <tr>\n      <th>...</th>\n      <td>...</td>\n      <td>...</td>\n      <td>...</td>\n    </tr>\n    <tr>\n      <th>499</th>\n      <td>10001</td>\n      <td>28.02.2063</td>\n      <td>1642910.98</td>\n    </tr>\n    <tr>\n      <th>500</th>\n      <td>10001</td>\n      <td>31.03.2063</td>\n      <td>1642910.98</td>\n    </tr>\n    <tr>\n      <th>501</th>\n      <td>10001</td>\n      <td>30.04.2063</td>\n      <td>1642910.98</td>\n    </tr>\n    <tr>\n      <th>502</th>\n      <td>10001</td>\n      <td>31.05.2063</td>\n      <td>1642910.98</td>\n    </tr>\n    <tr>\n      <th>503</th>\n      <td>10001</td>\n      <td>30.06.2063</td>\n      <td>1642910.98</td>\n    </tr>\n  </tbody>\n</table>\n<p>504 rows × 3 columns</p>\n</div>"
     },
     "execution_count": 137,
     "metadata": {},
     "output_type": "execute_result"
    }
   ],
   "source": [
    "df_results[df_results['Номер договора'] == 10001]"
   ],
   "metadata": {
    "collapsed": false,
    "ExecuteTime": {
     "start_time": "2024-06-12T23:50:20.077763Z",
     "end_time": "2024-06-12T23:50:20.090273Z"
    }
   }
  },
  {
   "cell_type": "code",
   "execution_count": 138,
   "outputs": [
    {
     "data": {
      "text/plain": "     Номер договора Дата платежа  Размер пенсии\n504           10002   29.02.2052       50000.00\n505           10002   31.03.2052       50000.00\n506           10002   30.04.2052       50000.00\n507           10002   31.05.2052       50000.00\n508           10002   30.06.2052       50000.00\n..              ...          ...            ...\n919           10002   30.09.2086     1277383.49\n920           10002   31.10.2086     1277383.49\n921           10002   30.11.2086     1277383.49\n922           10002   31.12.2086     1277383.49\n923           10002   31.01.2087     1277383.49\n\n[420 rows x 3 columns]",
      "text/html": "<div>\n<style scoped>\n    .dataframe tbody tr th:only-of-type {\n        vertical-align: middle;\n    }\n\n    .dataframe tbody tr th {\n        vertical-align: top;\n    }\n\n    .dataframe thead th {\n        text-align: right;\n    }\n</style>\n<table border=\"1\" class=\"dataframe\">\n  <thead>\n    <tr style=\"text-align: right;\">\n      <th></th>\n      <th>Номер договора</th>\n      <th>Дата платежа</th>\n      <th>Размер пенсии</th>\n    </tr>\n  </thead>\n  <tbody>\n    <tr>\n      <th>504</th>\n      <td>10002</td>\n      <td>29.02.2052</td>\n      <td>50000.00</td>\n    </tr>\n    <tr>\n      <th>505</th>\n      <td>10002</td>\n      <td>31.03.2052</td>\n      <td>50000.00</td>\n    </tr>\n    <tr>\n      <th>506</th>\n      <td>10002</td>\n      <td>30.04.2052</td>\n      <td>50000.00</td>\n    </tr>\n    <tr>\n      <th>507</th>\n      <td>10002</td>\n      <td>31.05.2052</td>\n      <td>50000.00</td>\n    </tr>\n    <tr>\n      <th>508</th>\n      <td>10002</td>\n      <td>30.06.2052</td>\n      <td>50000.00</td>\n    </tr>\n    <tr>\n      <th>...</th>\n      <td>...</td>\n      <td>...</td>\n      <td>...</td>\n    </tr>\n    <tr>\n      <th>919</th>\n      <td>10002</td>\n      <td>30.09.2086</td>\n      <td>1277383.49</td>\n    </tr>\n    <tr>\n      <th>920</th>\n      <td>10002</td>\n      <td>31.10.2086</td>\n      <td>1277383.49</td>\n    </tr>\n    <tr>\n      <th>921</th>\n      <td>10002</td>\n      <td>30.11.2086</td>\n      <td>1277383.49</td>\n    </tr>\n    <tr>\n      <th>922</th>\n      <td>10002</td>\n      <td>31.12.2086</td>\n      <td>1277383.49</td>\n    </tr>\n    <tr>\n      <th>923</th>\n      <td>10002</td>\n      <td>31.01.2087</td>\n      <td>1277383.49</td>\n    </tr>\n  </tbody>\n</table>\n<p>420 rows × 3 columns</p>\n</div>"
     },
     "execution_count": 138,
     "metadata": {},
     "output_type": "execute_result"
    }
   ],
   "source": [
    "df_results[df_results['Номер договора'] == 10002]"
   ],
   "metadata": {
    "collapsed": false,
    "ExecuteTime": {
     "start_time": "2024-06-12T23:50:20.092778Z",
     "end_time": "2024-06-12T23:50:20.114826Z"
    }
   }
  },
  {
   "cell_type": "markdown",
   "source": [
    "**Запись в исходный excel файл**"
   ],
   "metadata": {
    "collapsed": false
   }
  },
  {
   "cell_type": "code",
   "execution_count": 139,
   "outputs": [],
   "source": [
    "with pd.ExcelWriter(excel_file, engine='openpyxl', mode='a', if_sheet_exists='replace') as writer:\n",
    "    df_results.to_excel(writer, sheet_name='Результат', index=False)"
   ],
   "metadata": {
    "collapsed": false,
    "ExecuteTime": {
     "start_time": "2024-06-12T23:50:20.108304Z",
     "end_time": "2024-06-12T23:50:20.246715Z"
    }
   }
  }
 ],
 "metadata": {
  "kernelspec": {
   "display_name": "Python 3",
   "language": "python",
   "name": "python3"
  },
  "language_info": {
   "codemirror_mode": {
    "name": "ipython",
    "version": 2
   },
   "file_extension": ".py",
   "mimetype": "text/x-python",
   "name": "python",
   "nbconvert_exporter": "python",
   "pygments_lexer": "ipython2",
   "version": "2.7.6"
  }
 },
 "nbformat": 4,
 "nbformat_minor": 0
}
